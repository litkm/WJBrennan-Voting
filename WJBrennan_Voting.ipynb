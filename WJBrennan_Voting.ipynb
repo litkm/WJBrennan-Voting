{
  "nbformat": 4,
  "nbformat_minor": 0,
  "metadata": {
    "colab": {
      "name": "WJBrennan Voting.ipynb",
      "provenance": [],
      "authorship_tag": "ABX9TyPJhB3gNEI7bG3Rz08XQtCp",
      "include_colab_link": true
    },
    "kernelspec": {
      "name": "python3",
      "display_name": "Python 3"
    }
  },
  "cells": [
    {
      "cell_type": "markdown",
      "metadata": {
        "id": "view-in-github",
        "colab_type": "text"
      },
      "source": [
        "<a href=\"https://colab.research.google.com/github/litkm/WJBrennan-Voting/blob/main/WJBrennan_Voting.ipynb\" target=\"_parent\"><img src=\"https://colab.research.google.com/assets/colab-badge.svg\" alt=\"Open In Colab\"/></a>"
      ]
    },
    {
      "cell_type": "code",
      "metadata": {
        "colab": {
          "base_uri": "https://localhost:8080/"
        },
        "id": "lrYiefkzrJLg",
        "outputId": "21e9c427-2e1d-43a4-b458-e08ceec45d9b"
      },
      "source": [
        "import pandas as pd\n",
        "\n",
        "dataset = 'https://raw.githubusercontent.com/litkm/WJBrennan-Voting/main/WJBrennan_voting.csv'\n",
        "dataset = pd.read_csv(dataset)\n",
        "\n",
        "print(dataset.head())\n",
        "print(dataset.describe())"
      ],
      "execution_count": 3,
      "outputs": [
        {
          "output_type": "stream",
          "text": [
            "   term  petitioner  respondent  ...   issue  issueArea      vote\n",
            "0  1956         113         102  ...  100130         10  majority\n",
            "1  1956           1         102  ...   90310          9  majority\n",
            "2  1956         184          27  ...   80010          8  majority\n",
            "3  1956         138         369  ...  120020         12  majority\n",
            "4  1956         195           3  ...   40070          4  majority\n",
            "\n",
            "[5 rows x 10 columns]\n",
            "              term   petitioner  ...          issue    issueArea\n",
            "count  4746.000000  4746.000000  ...    4746.000000  4746.000000\n",
            "mean   1972.634640   142.193426  ...   51929.660767     5.180152\n",
            "std       9.588592   106.911454  ...   35963.921687     3.598647\n",
            "min    1956.000000     1.000000  ...       0.000000     0.000000\n",
            "25%    1964.000000    28.000000  ...   20060.000000     2.000000\n",
            "50%    1973.000000   126.000000  ...   40045.000000     4.000000\n",
            "75%    1981.000000   215.000000  ...   80220.000000     8.000000\n",
            "max    1989.000000   501.000000  ...  130020.000000    13.000000\n",
            "\n",
            "[8 rows x 9 columns]\n"
          ],
          "name": "stdout"
        }
      ]
    }
  ]
}