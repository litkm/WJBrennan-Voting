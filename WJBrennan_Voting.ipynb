{
  "nbformat": 4,
  "nbformat_minor": 0,
  "metadata": {
    "colab": {
      "name": "WJBrennan Voting.ipynb",
      "provenance": [],
      "authorship_tag": "ABX9TyNlXyBKhi9862S//fH/3lwi",
      "include_colab_link": true
    },
    "kernelspec": {
      "name": "python3",
      "display_name": "Python 3"
    }
  },
  "cells": [
    {
      "cell_type": "markdown",
      "metadata": {
        "id": "view-in-github",
        "colab_type": "text"
      },
      "source": [
        "<a href=\"https://colab.research.google.com/github/litkm/WJBrennan-Voting/blob/main/WJBrennan_Voting.ipynb\" target=\"_parent\"><img src=\"https://colab.research.google.com/assets/colab-badge.svg\" alt=\"Open In Colab\"/></a>"
      ]
    },
    {
      "cell_type": "code",
      "metadata": {
        "colab": {
          "base_uri": "https://localhost:8080/"
        },
        "id": "lrYiefkzrJLg",
        "outputId": "17430fd3-be8c-4ea1-ea49-3f11bb89ba6d"
      },
      "source": [
        "import pandas as pd\n",
        "from collections import Counter\n",
        "\n",
        "dataset = 'https://raw.githubusercontent.com/litkm/WJBrennan-Voting/main/WJBrennan_voting.csv'\n",
        "dataset = pd.read_csv(dataset)\n",
        "\n",
        "#print(dataset.head())\n",
        "#print(dataset.describe())\n",
        "print(dataset.info())\n",
        "\n",
        "print('Classes and number of values in the dataset',Counter(dataset['vote']))"
      ],
      "execution_count": 6,
      "outputs": [
        {
          "output_type": "stream",
          "text": [
            "<class 'pandas.core.frame.DataFrame'>\n",
            "RangeIndex: 4746 entries, 0 to 4745\n",
            "Data columns (total 10 columns):\n",
            " #   Column        Non-Null Count  Dtype \n",
            "---  ------        --------------  ----- \n",
            " 0   term          4746 non-null   int64 \n",
            " 1   petitioner    4746 non-null   int64 \n",
            " 2   respondent    4746 non-null   int64 \n",
            " 3   jurisdiction  4746 non-null   int64 \n",
            " 4   caseOrigin    4746 non-null   int64 \n",
            " 5   caseSource    4746 non-null   int64 \n",
            " 6   certReason    4746 non-null   int64 \n",
            " 7   issue         4746 non-null   int64 \n",
            " 8   issueArea     4746 non-null   int64 \n",
            " 9   vote          4746 non-null   object\n",
            "dtypes: int64(9), object(1)\n",
            "memory usage: 370.9+ KB\n",
            "None\n",
            "Classes and number of values in the dataset Counter({'majority': 3683, 'dissent': 1063})\n"
          ],
          "name": "stdout"
        }
      ]
    }
  ]
}